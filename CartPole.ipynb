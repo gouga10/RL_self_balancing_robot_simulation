{
 "cells": [
  {
   "cell_type": "code",
   "execution_count": 20,
   "metadata": {},
   "outputs": [],
   "source": [
    "import gym\n",
    "import random\n",
    "env = gym.make('CartPole-v1')\n",
    "states=env.observation_space.shape[0]\n",
    "actions=env.action_space.n"
   ]
  },
  {
   "cell_type": "code",
   "execution_count": null,
   "metadata": {},
   "outputs": [],
   "source": []
  },
  {
   "cell_type": "code",
   "execution_count": 21,
   "metadata": {},
   "outputs": [
    {
     "name": "stdout",
     "output_type": "stream",
     "text": [
      "Episode :1  score:11.0\n",
      "Episode :2  score:27.0\n",
      "Episode :3  score:18.0\n",
      "Episode :4  score:10.0\n",
      "Episode :5  score:20.0\n",
      "Episode :6  score:30.0\n",
      "Episode :7  score:17.0\n",
      "Episode :8  score:20.0\n",
      "Episode :9  score:17.0\n",
      "Episode :10  score:9.0\n"
     ]
    }
   ],
   "source": [
    "\n",
    "\n",
    "\n",
    "episodes=10\n",
    "for episode in range(1,episodes+1):\n",
    "   state=env.reset()\n",
    "   score=0\n",
    "   done=False\n",
    "   \n",
    "   while not done:\n",
    "      env.render()\n",
    "      action=random.choice([0,1])\n",
    "      \n",
    "      n_state,reward,done,info=env.step(action)\n",
    "      score+=reward\n",
    "   print(f'Episode :{episode}  score:{score}')\n",
    "state=env.close()\n",
    "   \n",
    "\n"
   ]
  },
  {
   "cell_type": "code",
   "execution_count": 25,
   "metadata": {},
   "outputs": [],
   "source": [
    "import numpy as np\n",
    "from tensorflow.keras.models import Sequential\n",
    "from tensorflow.keras.layers import Dense,Flatten\n",
    "from tensorflow.keras.optimizers import Adam\n",
    "import tensorflow"
   ]
  },
  {
   "cell_type": "code",
   "execution_count": 26,
   "metadata": {},
   "outputs": [],
   "source": [
    "def buil_model(states,actions):\n",
    "    model=tensorflow.keras.Sequential()\n",
    "    model.add(Flatten(input_shape=(1,states)))\n",
    "    model.add(Dense(24,activation='relu'))\n",
    "    model.add(Dense(24,activation='relu'))\n",
    "    model.add(Dense(actions,activation='linear'))\n",
    "    return model"
   ]
  },
  {
   "cell_type": "code",
   "execution_count": 27,
   "metadata": {},
   "outputs": [],
   "source": [
    "model=buil_model(states,actions)"
   ]
  },
  {
   "cell_type": "code",
   "execution_count": 28,
   "metadata": {},
   "outputs": [
    {
     "name": "stdout",
     "output_type": "stream",
     "text": [
      "Model: \"sequential_1\"\n",
      "_________________________________________________________________\n",
      " Layer (type)                Output Shape              Param #   \n",
      "=================================================================\n",
      " flatten_1 (Flatten)         (None, 4)                 0         \n",
      "                                                                 \n",
      " dense_3 (Dense)             (None, 24)                120       \n",
      "                                                                 \n",
      " dense_4 (Dense)             (None, 24)                600       \n",
      "                                                                 \n",
      " dense_5 (Dense)             (None, 2)                 50        \n",
      "                                                                 \n",
      "=================================================================\n",
      "Total params: 770\n",
      "Trainable params: 770\n",
      "Non-trainable params: 0\n",
      "_________________________________________________________________\n"
     ]
    }
   ],
   "source": [
    "model.summary()"
   ]
  },
  {
   "cell_type": "code",
   "execution_count": 29,
   "metadata": {},
   "outputs": [],
   "source": [
    "from rl.agents import DQNAgent\n",
    "from rl.policy import BoltzmannQPolicy\n",
    "from rl.memory import SequentialMemory"
   ]
  },
  {
   "cell_type": "code",
   "execution_count": 30,
   "metadata": {},
   "outputs": [],
   "source": [
    "def build_agent(model,actions):\n",
    "    policy=BoltzmannQPolicy()\n",
    "    memory=SequentialMemory(limit=50000,window_length=1)\n",
    "    dqn=DQNAgent(model=model,memory=memory,policy=policy,\n",
    "                 nb_actions=actions,nb_steps_warmup=10,target_model_update=1e-2)\n",
    "    return dqn"
   ]
  },
  {
   "cell_type": "code",
   "execution_count": 31,
   "metadata": {},
   "outputs": [
    {
     "name": "stderr",
     "output_type": "stream",
     "text": [
      "C:\\Users\\abder\\AppData\\Local\\Packages\\PythonSoftwareFoundation.Python.3.10_qbz5n2kfra8p0\\LocalCache\\local-packages\\Python310\\site-packages\\keras\\optimizers\\optimizer_v2\\adam.py:110: UserWarning: The `lr` argument is deprecated, use `learning_rate` instead.\n",
      "  super(Adam, self).__init__(name, **kwargs)\n"
     ]
    },
    {
     "name": "stdout",
     "output_type": "stream",
     "text": [
      "Training for 50000 steps ...\n",
      "Interval 1 (0 steps performed)\n",
      "    1/10000 [..............................] - ETA: 20:56 - reward: 1.0000"
     ]
    },
    {
     "name": "stderr",
     "output_type": "stream",
     "text": [
      "C:\\Users\\abder\\AppData\\Local\\Packages\\PythonSoftwareFoundation.Python.3.10_qbz5n2kfra8p0\\LocalCache\\local-packages\\Python310\\site-packages\\keras\\engine\\training_v1.py:2067: UserWarning: `Model.state_updates` will be removed in a future version. This property should not be used in TensorFlow 2.0, as `updates` are applied automatically.\n",
      "  updates=self.state_updates,\n",
      "C:\\Users\\abder\\AppData\\Local\\Packages\\PythonSoftwareFoundation.Python.3.10_qbz5n2kfra8p0\\LocalCache\\local-packages\\Python310\\site-packages\\rl\\memory.py:37: UserWarning: Not enough entries to sample without replacement. Consider increasing your warm-up phase to avoid oversampling!\n",
      "  warnings.warn('Not enough entries to sample without replacement. Consider increasing your warm-up phase to avoid oversampling!')\n"
     ]
    },
    {
     "name": "stdout",
     "output_type": "stream",
     "text": [
      "10000/10000 [==============================] - 102s 10ms/step - reward: 1.0000\n",
      "104 episodes - episode_reward: 95.596 [9.000, 312.000] - loss: 2.835 - mae: 20.592 - mean_q: 41.728\n",
      "\n",
      "Interval 2 (10000 steps performed)\n",
      "10000/10000 [==============================] - 91s 9ms/step - reward: 1.0000\n",
      "41 episodes - episode_reward: 241.220 [180.000, 500.000] - loss: 5.687 - mae: 43.355 - mean_q: 87.708\n",
      "\n",
      "Interval 3 (20000 steps performed)\n",
      "10000/10000 [==============================] - 98s 10ms/step - reward: 1.0000\n",
      "34 episodes - episode_reward: 285.618 [214.000, 473.000] - loss: 5.563 - mae: 51.314 - mean_q: 103.698\n",
      "\n",
      "Interval 4 (30000 steps performed)\n",
      "10000/10000 [==============================] - 111s 11ms/step - reward: 1.0000\n",
      "40 episodes - episode_reward: 257.125 [190.000, 489.000] - loss: 3.986 - mae: 51.654 - mean_q: 104.092\n",
      "\n",
      "Interval 5 (40000 steps performed)\n",
      "10000/10000 [==============================] - 111s 11ms/step - reward: 1.0000\n",
      "done, took 512.239 seconds\n"
     ]
    },
    {
     "data": {
      "text/plain": [
       "<keras.callbacks.History at 0x1ec93fe6c20>"
      ]
     },
     "execution_count": 31,
     "metadata": {},
     "output_type": "execute_result"
    }
   ],
   "source": [
    "dqn=build_agent(model,actions)\n",
    "dqn.compile(Adam(lr=1e-3),metrics=['mae'])\n",
    "dqn.fit(env,nb_steps=50000,visualize=False,verbose=1)"
   ]
  },
  {
   "cell_type": "code",
   "execution_count": 32,
   "metadata": {},
   "outputs": [
    {
     "name": "stdout",
     "output_type": "stream",
     "text": [
      "Testing for 100 episodes ...\n",
      "Episode 1: reward: 214.000, steps: 214\n",
      "Episode 2: reward: 339.000, steps: 339\n",
      "Episode 3: reward: 211.000, steps: 211\n",
      "Episode 4: reward: 290.000, steps: 290\n",
      "Episode 5: reward: 235.000, steps: 235\n",
      "Episode 6: reward: 244.000, steps: 244\n",
      "Episode 7: reward: 198.000, steps: 198\n",
      "Episode 8: reward: 305.000, steps: 305\n",
      "Episode 9: reward: 241.000, steps: 241\n",
      "Episode 10: reward: 249.000, steps: 249\n",
      "Episode 11: reward: 293.000, steps: 293\n",
      "Episode 12: reward: 239.000, steps: 239\n",
      "Episode 13: reward: 265.000, steps: 265\n",
      "Episode 14: reward: 215.000, steps: 215\n",
      "Episode 15: reward: 297.000, steps: 297\n",
      "Episode 16: reward: 239.000, steps: 239\n",
      "Episode 17: reward: 265.000, steps: 265\n",
      "Episode 18: reward: 231.000, steps: 231\n",
      "Episode 19: reward: 242.000, steps: 242\n",
      "Episode 20: reward: 280.000, steps: 280\n",
      "Episode 21: reward: 244.000, steps: 244\n",
      "Episode 22: reward: 219.000, steps: 219\n",
      "Episode 23: reward: 240.000, steps: 240\n",
      "Episode 24: reward: 289.000, steps: 289\n",
      "Episode 25: reward: 272.000, steps: 272\n",
      "Episode 26: reward: 218.000, steps: 218\n",
      "Episode 27: reward: 237.000, steps: 237\n",
      "Episode 28: reward: 224.000, steps: 224\n",
      "Episode 29: reward: 306.000, steps: 306\n",
      "Episode 30: reward: 232.000, steps: 232\n",
      "Episode 31: reward: 246.000, steps: 246\n",
      "Episode 32: reward: 222.000, steps: 222\n",
      "Episode 33: reward: 211.000, steps: 211\n",
      "Episode 34: reward: 251.000, steps: 251\n",
      "Episode 35: reward: 246.000, steps: 246\n",
      "Episode 36: reward: 234.000, steps: 234\n",
      "Episode 37: reward: 262.000, steps: 262\n",
      "Episode 38: reward: 224.000, steps: 224\n",
      "Episode 39: reward: 228.000, steps: 228\n",
      "Episode 40: reward: 240.000, steps: 240\n",
      "Episode 41: reward: 237.000, steps: 237\n",
      "Episode 42: reward: 277.000, steps: 277\n",
      "Episode 43: reward: 237.000, steps: 237\n",
      "Episode 44: reward: 253.000, steps: 253\n",
      "Episode 45: reward: 215.000, steps: 215\n",
      "Episode 46: reward: 293.000, steps: 293\n",
      "Episode 47: reward: 241.000, steps: 241\n",
      "Episode 48: reward: 249.000, steps: 249\n",
      "Episode 49: reward: 298.000, steps: 298\n",
      "Episode 50: reward: 260.000, steps: 260\n",
      "Episode 51: reward: 216.000, steps: 216\n",
      "Episode 52: reward: 305.000, steps: 305\n",
      "Episode 53: reward: 229.000, steps: 229\n",
      "Episode 54: reward: 255.000, steps: 255\n",
      "Episode 55: reward: 210.000, steps: 210\n",
      "Episode 56: reward: 247.000, steps: 247\n",
      "Episode 57: reward: 219.000, steps: 219\n",
      "Episode 58: reward: 208.000, steps: 208\n",
      "Episode 59: reward: 393.000, steps: 393\n",
      "Episode 60: reward: 234.000, steps: 234\n",
      "Episode 61: reward: 209.000, steps: 209\n",
      "Episode 62: reward: 212.000, steps: 212\n",
      "Episode 63: reward: 259.000, steps: 259\n",
      "Episode 64: reward: 231.000, steps: 231\n",
      "Episode 65: reward: 349.000, steps: 349\n",
      "Episode 66: reward: 217.000, steps: 217\n",
      "Episode 67: reward: 208.000, steps: 208\n",
      "Episode 68: reward: 238.000, steps: 238\n",
      "Episode 69: reward: 231.000, steps: 231\n",
      "Episode 70: reward: 227.000, steps: 227\n",
      "Episode 71: reward: 200.000, steps: 200\n",
      "Episode 72: reward: 204.000, steps: 204\n",
      "Episode 73: reward: 269.000, steps: 269\n",
      "Episode 74: reward: 211.000, steps: 211\n",
      "Episode 75: reward: 234.000, steps: 234\n",
      "Episode 76: reward: 217.000, steps: 217\n",
      "Episode 77: reward: 228.000, steps: 228\n",
      "Episode 78: reward: 242.000, steps: 242\n",
      "Episode 79: reward: 226.000, steps: 226\n",
      "Episode 80: reward: 217.000, steps: 217\n",
      "Episode 81: reward: 249.000, steps: 249\n",
      "Episode 82: reward: 235.000, steps: 235\n",
      "Episode 83: reward: 235.000, steps: 235\n",
      "Episode 84: reward: 256.000, steps: 256\n",
      "Episode 85: reward: 254.000, steps: 254\n",
      "Episode 86: reward: 340.000, steps: 340\n",
      "Episode 87: reward: 242.000, steps: 242\n",
      "Episode 88: reward: 219.000, steps: 219\n",
      "Episode 89: reward: 272.000, steps: 272\n",
      "Episode 90: reward: 218.000, steps: 218\n",
      "Episode 91: reward: 241.000, steps: 241\n",
      "Episode 92: reward: 293.000, steps: 293\n",
      "Episode 93: reward: 271.000, steps: 271\n",
      "Episode 94: reward: 275.000, steps: 275\n",
      "Episode 95: reward: 255.000, steps: 255\n",
      "Episode 96: reward: 257.000, steps: 257\n",
      "Episode 97: reward: 219.000, steps: 219\n",
      "Episode 98: reward: 245.000, steps: 245\n",
      "Episode 99: reward: 220.000, steps: 220\n",
      "Episode 100: reward: 209.000, steps: 209\n",
      "246.47\n"
     ]
    }
   ],
   "source": [
    "scores=dqn.test(env,nb_episodes=100,visualize=False)\n",
    "print(np.mean(scores.history['episode_reward']))"
   ]
  },
  {
   "cell_type": "code",
   "execution_count": 33,
   "metadata": {},
   "outputs": [
    {
     "name": "stdout",
     "output_type": "stream",
     "text": [
      "Testing for 5 episodes ...\n",
      "Episode 1: reward: 284.000, steps: 284\n",
      "Episode 2: reward: 358.000, steps: 358\n",
      "Episode 3: reward: 224.000, steps: 224\n",
      "Episode 4: reward: 232.000, steps: 232\n",
      "Episode 5: reward: 262.000, steps: 262\n"
     ]
    }
   ],
   "source": [
    "scores=dqn.test(env,nb_episodes=5,visualize=True)\n",
    "state=env.close()\n"
   ]
  },
  {
   "cell_type": "code",
   "execution_count": 38,
   "metadata": {},
   "outputs": [
    {
     "ename": "NameError",
     "evalue": "name 'dqn' is not defined",
     "output_type": "error",
     "traceback": [
      "\u001b[1;31m---------------------------------------------------------------------------\u001b[0m",
      "\u001b[1;31mNameError\u001b[0m                                 Traceback (most recent call last)",
      "\u001b[1;32mc:\\Users\\abder\\Desktop\\RL\\Untitled-1.ipynb Cell 13\u001b[0m in \u001b[0;36m<cell line: 1>\u001b[1;34m()\u001b[0m\n\u001b[1;32m----> <a href='vscode-notebook-cell:/c%3A/Users/abder/Desktop/RL/Untitled-1.ipynb#X15sZmlsZQ%3D%3D?line=0'>1</a>\u001b[0m dqn\u001b[39m.\u001b[39msave_weights(\u001b[39m'\u001b[39m\u001b[39m./Training/Saved Models/dqn_weights.h5f\u001b[39m\u001b[39m'\u001b[39m,overwrite\u001b[39m=\u001b[39m\u001b[39mTrue\u001b[39;00m)\n",
      "\u001b[1;31mNameError\u001b[0m: name 'dqn' is not defined"
     ]
    }
   ],
   "source": [
    "dqn.save_weights('./Training/Saved Models/dqn_weights.h5f',overwrite=True)"
   ]
  },
  {
   "cell_type": "code",
   "execution_count": null,
   "metadata": {},
   "outputs": [],
   "source": []
  },
  {
   "cell_type": "code",
   "execution_count": 35,
   "metadata": {},
   "outputs": [],
   "source": [
    "del model\n",
    "del dqn\n",
    "del env"
   ]
  },
  {
   "cell_type": "code",
   "execution_count": null,
   "metadata": {},
   "outputs": [],
   "source": []
  },
  {
   "cell_type": "code",
   "execution_count": null,
   "metadata": {},
   "outputs": [],
   "source": []
  },
  {
   "cell_type": "code",
   "execution_count": null,
   "metadata": {},
   "outputs": [],
   "source": []
  },
  {
   "cell_type": "code",
   "execution_count": null,
   "metadata": {},
   "outputs": [],
   "source": []
  },
  {
   "cell_type": "code",
   "execution_count": null,
   "metadata": {},
   "outputs": [],
   "source": []
  },
  {
   "cell_type": "code",
   "execution_count": null,
   "metadata": {},
   "outputs": [],
   "source": []
  },
  {
   "cell_type": "code",
   "execution_count": null,
   "metadata": {},
   "outputs": [],
   "source": []
  },
  {
   "cell_type": "code",
   "execution_count": null,
   "metadata": {},
   "outputs": [],
   "source": []
  },
  {
   "cell_type": "code",
   "execution_count": null,
   "metadata": {},
   "outputs": [],
   "source": []
  },
  {
   "cell_type": "code",
   "execution_count": null,
   "metadata": {},
   "outputs": [],
   "source": []
  },
  {
   "cell_type": "code",
   "execution_count": null,
   "metadata": {},
   "outputs": [],
   "source": []
  }
 ],
 "metadata": {
  "kernelspec": {
   "display_name": "Python 3",
   "language": "python",
   "name": "python3"
  },
  "language_info": {
   "codemirror_mode": {
    "name": "ipython",
    "version": 3
   },
   "file_extension": ".py",
   "mimetype": "text/x-python",
   "name": "python",
   "nbconvert_exporter": "python",
   "pygments_lexer": "ipython3",
   "version": "3.10.11"
  },
  "orig_nbformat": 4
 },
 "nbformat": 4,
 "nbformat_minor": 2
}
